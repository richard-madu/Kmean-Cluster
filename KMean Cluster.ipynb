{
 "cells": [
  {
   "cell_type": "markdown",
   "id": "8fa5a6b8",
   "metadata": {},
   "source": [
    "## KMEAN CLUSTERING\n",
    "\n",
    "\n",
    "\n",
    "🌸 **Unveiling the Beauty of Flowers: A Journey into K-means Clustering** 🌸\n",
    "\n",
    "Embarking on a fascinating journey in the realm of data science, I recently delved into the enchanting world of flowers, seeking to unravel the intricate patterns that define their unique characteristics. 🌺💻\n",
    "\n",
    "In this project, I harnessed the power of K-means clustering, a powerful unsupervised machine learning algorithm, to group flowers based on shared features. The goal? To unveil natural clusters within the dataset, shedding light on the inherent similarities and differences that make each bloom a masterpiece of nature. 🌷🌿\n",
    "\n",
    "🔍 **The Quest for Optimal Clusters: The Elbow Method**\n",
    "A pivotal aspect of this exploration was the quest to determine the optimal number of clusters. Here, the ingenious \"Elbow Method\" came to the rescue. By evaluating the sum of squared distances between data points and their assigned clusters across a range of cluster numbers, we sought that sweet spot where the reduction in variance sharply slowed—the elbow point. This pivotal discovery paved the way for a more nuanced understanding of our floral data. 📊👩‍🔬\n",
    "\n",
    "💡 **Why K-means?**\n",
    "K-means clustering, with its simplicity and effectiveness, proved to be an ideal companion for this endeavor. The algorithm's ability to uncover inherent structures within the dataset offered not only a visual representation of flower groupings but also a deeper insight into the underlying botanical relationships. 🌐🌼\n",
    "\n",
    "Join me on this odyssey into the heart of data-driven discovery, where algorithms and nature converge to illuminate the beauty of classification. As we cluster flowers into groups, we unlock the secrets hidden within their petals, showcasing the power of machine learning in deciphering the language of flora. 📚🌸\n",
    "\n",
    "Stay tuned for the blossoming insights that emerge as we navigate the clusters and explore the nuances of floral diversity through the lens of K-means clustering. 🌈✨\n",
    "\n",
    "\n",
    "---\n"
   ]
  },
  {
   "cell_type": "code",
   "execution_count": 4,
   "id": "eb1dde9f",
   "metadata": {},
   "outputs": [],
   "source": [
    "#import relevant libraries\n",
    "import numpy as np\n",
    "import pandas as pd\n",
    "import matplotlib.pyplot as plt\n",
    "%matplotlib inline\n",
    "from sklearn import datasets\n",
    "from sklearn.cluster import KMeans"
   ]
  },
  {
   "cell_type": "code",
   "execution_count": 5,
   "id": "bec1b47e",
   "metadata": {},
   "outputs": [
    {
     "data": {
      "text/html": [
       "<div>\n",
       "<style scoped>\n",
       "    .dataframe tbody tr th:only-of-type {\n",
       "        vertical-align: middle;\n",
       "    }\n",
       "\n",
       "    .dataframe tbody tr th {\n",
       "        vertical-align: top;\n",
       "    }\n",
       "\n",
       "    .dataframe thead th {\n",
       "        text-align: right;\n",
       "    }\n",
       "</style>\n",
       "<table border=\"1\" class=\"dataframe\">\n",
       "  <thead>\n",
       "    <tr style=\"text-align: right;\">\n",
       "      <th></th>\n",
       "      <th>sepal length (cm)</th>\n",
       "      <th>sepal width (cm)</th>\n",
       "      <th>petal length (cm)</th>\n",
       "      <th>petal width (cm)</th>\n",
       "    </tr>\n",
       "  </thead>\n",
       "  <tbody>\n",
       "    <tr>\n",
       "      <th>0</th>\n",
       "      <td>5.1</td>\n",
       "      <td>3.5</td>\n",
       "      <td>1.4</td>\n",
       "      <td>0.2</td>\n",
       "    </tr>\n",
       "    <tr>\n",
       "      <th>1</th>\n",
       "      <td>4.9</td>\n",
       "      <td>3.0</td>\n",
       "      <td>1.4</td>\n",
       "      <td>0.2</td>\n",
       "    </tr>\n",
       "    <tr>\n",
       "      <th>2</th>\n",
       "      <td>4.7</td>\n",
       "      <td>3.2</td>\n",
       "      <td>1.3</td>\n",
       "      <td>0.2</td>\n",
       "    </tr>\n",
       "    <tr>\n",
       "      <th>3</th>\n",
       "      <td>4.6</td>\n",
       "      <td>3.1</td>\n",
       "      <td>1.5</td>\n",
       "      <td>0.2</td>\n",
       "    </tr>\n",
       "    <tr>\n",
       "      <th>4</th>\n",
       "      <td>5.0</td>\n",
       "      <td>3.6</td>\n",
       "      <td>1.4</td>\n",
       "      <td>0.2</td>\n",
       "    </tr>\n",
       "  </tbody>\n",
       "</table>\n",
       "</div>"
      ],
      "text/plain": [
       "   sepal length (cm)  sepal width (cm)  petal length (cm)  petal width (cm)\n",
       "0                5.1               3.5                1.4               0.2\n",
       "1                4.9               3.0                1.4               0.2\n",
       "2                4.7               3.2                1.3               0.2\n",
       "3                4.6               3.1                1.5               0.2\n",
       "4                5.0               3.6                1.4               0.2"
      ]
     },
     "execution_count": 5,
     "metadata": {},
     "output_type": "execute_result"
    }
   ],
   "source": [
    "#Load the iris dataset\n",
    "iris = datasets.load_iris()\n",
    "df = pd.DataFrame(iris.data, columns = iris.feature_names)\n",
    "df.head()"
   ]
  },
  {
   "cell_type": "code",
   "execution_count": 6,
   "id": "0abb9bda",
   "metadata": {},
   "outputs": [
    {
     "data": {
      "text/plain": [
       "sepal length (cm)    0\n",
       "sepal width (cm)     0\n",
       "petal length (cm)    0\n",
       "petal width (cm)     0\n",
       "dtype: int64"
      ]
     },
     "execution_count": 6,
     "metadata": {},
     "output_type": "execute_result"
    }
   ],
   "source": [
    "#check for missing values\n",
    "df.isna().sum()"
   ]
  },
  {
   "cell_type": "code",
   "execution_count": 7,
   "id": "fe8be664",
   "metadata": {},
   "outputs": [],
   "source": [
    "from sklearn.preprocessing import StandardScaler\n",
    "from sklearn.decomposition import PCA\n",
    "# Extracting features (excluding the target variable 'species')\n",
    "X = df.iloc[:, :-1].values\n",
    "\n",
    "# Standardize the feature matrix\n",
    "scaler = StandardScaler()\n",
    "X_scaled = scaler.fit_transform(X)\n",
    "\n",
    "# Use PCA to reduce the feature dimensions for visualization\n",
    "pca = PCA(n_components=3)\n",
    "X_pca = pca.fit_transform(X_scaled)"
   ]
  },
  {
   "cell_type": "code",
   "execution_count": 8,
   "id": "0eae14ab",
   "metadata": {},
   "outputs": [
    {
     "name": "stderr",
     "output_type": "stream",
     "text": [
      "c:\\users\\expression\\appdata\\local\\programs\\python\\python38\\lib\\site-packages\\sklearn\\cluster\\_kmeans.py:1412: FutureWarning: The default value of `n_init` will change from 10 to 'auto' in 1.4. Set the value of `n_init` explicitly to suppress the warning\n",
      "  super()._check_params_vs_input(X, default_n_init=10)\n",
      "c:\\users\\expression\\appdata\\local\\programs\\python\\python38\\lib\\site-packages\\sklearn\\cluster\\_kmeans.py:1412: FutureWarning: The default value of `n_init` will change from 10 to 'auto' in 1.4. Set the value of `n_init` explicitly to suppress the warning\n",
      "  super()._check_params_vs_input(X, default_n_init=10)\n",
      "c:\\users\\expression\\appdata\\local\\programs\\python\\python38\\lib\\site-packages\\sklearn\\cluster\\_kmeans.py:1412: FutureWarning: The default value of `n_init` will change from 10 to 'auto' in 1.4. Set the value of `n_init` explicitly to suppress the warning\n",
      "  super()._check_params_vs_input(X, default_n_init=10)\n",
      "c:\\users\\expression\\appdata\\local\\programs\\python\\python38\\lib\\site-packages\\sklearn\\cluster\\_kmeans.py:1412: FutureWarning: The default value of `n_init` will change from 10 to 'auto' in 1.4. Set the value of `n_init` explicitly to suppress the warning\n",
      "  super()._check_params_vs_input(X, default_n_init=10)\n",
      "c:\\users\\expression\\appdata\\local\\programs\\python\\python38\\lib\\site-packages\\sklearn\\cluster\\_kmeans.py:1412: FutureWarning: The default value of `n_init` will change from 10 to 'auto' in 1.4. Set the value of `n_init` explicitly to suppress the warning\n",
      "  super()._check_params_vs_input(X, default_n_init=10)\n",
      "c:\\users\\expression\\appdata\\local\\programs\\python\\python38\\lib\\site-packages\\sklearn\\cluster\\_kmeans.py:1412: FutureWarning: The default value of `n_init` will change from 10 to 'auto' in 1.4. Set the value of `n_init` explicitly to suppress the warning\n",
      "  super()._check_params_vs_input(X, default_n_init=10)\n",
      "c:\\users\\expression\\appdata\\local\\programs\\python\\python38\\lib\\site-packages\\sklearn\\cluster\\_kmeans.py:1412: FutureWarning: The default value of `n_init` will change from 10 to 'auto' in 1.4. Set the value of `n_init` explicitly to suppress the warning\n",
      "  super()._check_params_vs_input(X, default_n_init=10)\n",
      "c:\\users\\expression\\appdata\\local\\programs\\python\\python38\\lib\\site-packages\\sklearn\\cluster\\_kmeans.py:1412: FutureWarning: The default value of `n_init` will change from 10 to 'auto' in 1.4. Set the value of `n_init` explicitly to suppress the warning\n",
      "  super()._check_params_vs_input(X, default_n_init=10)\n",
      "c:\\users\\expression\\appdata\\local\\programs\\python\\python38\\lib\\site-packages\\sklearn\\cluster\\_kmeans.py:1412: FutureWarning: The default value of `n_init` will change from 10 to 'auto' in 1.4. Set the value of `n_init` explicitly to suppress the warning\n",
      "  super()._check_params_vs_input(X, default_n_init=10)\n",
      "c:\\users\\expression\\appdata\\local\\programs\\python\\python38\\lib\\site-packages\\sklearn\\cluster\\_kmeans.py:1412: FutureWarning: The default value of `n_init` will change from 10 to 'auto' in 1.4. Set the value of `n_init` explicitly to suppress the warning\n",
      "  super()._check_params_vs_input(X, default_n_init=10)\n"
     ]
    }
   ],
   "source": [
    "n_clusters=np.arange(1,11)\n",
    "scores=[]\n",
    "for c in n_clusters:\n",
    " # run k-means clustering on the data and...\n",
    "    kmeans = KMeans(n_clusters=c)\n",
    "    model = kmeans.fit(df)\n",
    " # compute the average within-cluster distances.\n",
    "    score = np.abs(model.score(df))\n",
    "    \n",
    "    scores.append(score)"
   ]
  },
  {
   "cell_type": "code",
   "execution_count": 10,
   "id": "b030e501",
   "metadata": {},
   "outputs": [
    {
     "data": {
      "image/png": "[encoded data removed]",
      "text/plain": [
       "<Figure size 432x288 with 1 Axes>"
      ]
     },
     "metadata": {
      "needs_background": "light"
     },
     "output_type": "display_data"
    }
   ],
   "source": [
    "# Investigate the change in within-cluster distance across number of clusters.\n",
    "# HINT: Use matplotlib's plot function to visualize this relationship.\n",
    "plt.plot(n_clusters, scores, linestyle='--', marker='o')\n",
    "plt.xlabel('NUMBER OF CLUSTER')\n",
    "plt.ylabel('SCORES')\n",
    "plt.title('CLUSTERS AND THEIR SCORES')\n",
    "plt.show()"
   ]
  },
  {
   "cell_type": "code",
   "execution_count": 11,
   "id": "a2cc1654",
   "metadata": {},
   "outputs": [
    {
     "name": "stderr",
     "output_type": "stream",
     "text": [
      "c:\\users\\expression\\appdata\\local\\programs\\python\\python38\\lib\\site-packages\\sklearn\\cluster\\_kmeans.py:1412: FutureWarning: The default value of `n_init` will change from 10 to 'auto' in 1.4. Set the value of `n_init` explicitly to suppress the warning\n",
      "  super()._check_params_vs_input(X, default_n_init=10)\n"
     ]
    }
   ],
   "source": [
    "\n",
    "kmean = KMeans(n_clusters = 3)\n",
    "model = kmean.fit(df)\n",
    "y_pred = kmean.predict(df)"
   ]
  },
  {
   "cell_type": "code",
   "execution_count": 14,
   "id": "b71ec6eb",
   "metadata": {},
   "outputs": [
    {
     "data": {
      "image/png": "[encoded data removed]",
      "text/plain": [
       "<Figure size 864x432 with 3 Axes>"
      ]
     },
     "metadata": {
      "needs_background": "light"
     },
     "output_type": "display_data"
    }
   ],
   "source": [
    "# Based on the Elbow method, let's say the optimal number of clusters is 3\n",
    "optimal_num_clusters = 3\n",
    "\n",
    "# Apply K-means clustering with the optimal number of clusters\n",
    "kmeans = KMeans(n_clusters=optimal_num_clusters, init='k-means++', max_iter=300, n_init=10, random_state=0)\n",
    "kmeans.fit(X_scaled)\n",
    "\n",
    "# Separate the data by class labels\n",
    "df['Cluster'] = kmeans.labels_\n",
    "\n",
    "# Visualize clusters and centroids separately for each class\n",
    "plt.figure(figsize=(12, 6))\n",
    "\n",
    "# Plot clusters for Iris-setosa\n",
    "plt.subplot(1, 3, 1)\n",
    "plt.scatter(X_pca[df['Cluster'] == 0, 0], X_pca[df['Cluster'] == 0, 1], s=100, c='red', label='Cluster 0')\n",
    "plt.scatter(kmeans.cluster_centers_[0, 0], kmeans.cluster_centers_[0, 1], s=200, c='yellow', marker='X', label='Centroid')\n",
    "plt.title('Iris-setosa Clusters')\n",
    "plt.legend()\n",
    "\n",
    "# Plot clusters for Iris-versicolour\n",
    "plt.subplot(1, 3, 2)\n",
    "plt.scatter(X_pca[df['Cluster'] == 1, 0], X_pca[df['Cluster'] == 1, 1], s=100, c='blue', label='Cluster 1')\n",
    "plt.scatter(kmeans.cluster_centers_[1, 0], kmeans.cluster_centers_[1, 1], s=200, c='yellow', marker='X', label='Centroid')\n",
    "plt.title('Iris-versicolour Clusters')\n",
    "plt.legend()\n",
    "\n",
    "# Plot clusters for Iris-virginica\n",
    "plt.subplot(1, 3, 3)\n",
    "plt.scatter(X_pca[df['Cluster'] == 2, 0], X_pca[df['Cluster'] == 2, 1], s=100, c='green', label='Cluster 2')\n",
    "plt.scatter(kmeans.cluster_centers_[2, 0], kmeans.cluster_centers_[2, 1], s=200, c='yellow', marker='X', label='Centroid')\n",
    "plt.title('Iris-virginica Clusters')\n",
    "plt.legend()\n",
    "\n",
    "plt.show()"
   ]
  },
  {
   "cell_type": "code",
   "execution_count": null,
   "id": "e0b480aa",
   "metadata": {},
   "outputs": [],
   "source": []
  }
 ],
 "metadata": {
  "kernelspec": {
   "display_name": "Python 3",
   "language": "python",
   "name": "python3"
  },
  "language_info": {
   "codemirror_mode": {
    "name": "ipython",
    "version": 3
   },
   "file_extension": ".py",
   "mimetype": "text/x-python",
   "name": "python",
   "nbconvert_exporter": "python",
   "pygments_lexer": "ipython3",
   "version": "3.8.9"
  }
 },
 "nbformat": 4,
 "nbformat_minor": 5
}
